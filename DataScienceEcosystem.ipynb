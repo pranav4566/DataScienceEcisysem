{
 "cells": [
  {
   "cell_type": "markdown",
   "id": "9fe8a52c-a9f3-4885-a828-23957be57f42",
   "metadata": {},
   "source": [
    "# Data Science Tools and Ecosystem"
   ]
  },
  {
   "cell_type": "markdown",
   "id": "e9599cbe-b257-4859-b5df-cbc3053d4080",
   "metadata": {},
   "source": [
    "In this notebook, Data Science Tools and Ecosystem are summarized."
   ]
  },
  {
   "cell_type": "markdown",
   "id": "1a7b27f0-6a66-4f87-8dbf-7f1e33ea1f09",
   "metadata": {},
   "source": [
    "## Objectives:\n",
    "- List popular languages for Data Science.\n",
    "- List commonly used libraries in Data Science.\n",
    "- Evaluate arithmetic expressions in Python.\n",
    "- Convert minutes to hours.\n"
   ]
  },
  {
   "cell_type": "markdown",
   "id": "e5f48eb7-6713-4722-b24a-0e49a47a1328",
   "metadata": {},
   "source": [
    "Some of the popular languages that Data Scientists use are:\n",
    "1. Python\n",
    "2. R\n",
    "3. SQL\n",
    "4. Julia\n",
    "5. Scala"
   ]
  },
  {
   "cell_type": "markdown",
   "id": "307b4132-72f3-44db-aaf2-f02e73de499a",
   "metadata": {},
   "source": [
    "Some of the commonly used libraries used by Data Scientists include:\n",
    "1. Pandas\n",
    "2. Numpy\n",
    "3. Matplotlib\n",
    "4. Scikit-Learn"
   ]
  },
  {
   "cell_type": "markdown",
   "id": "7e7f83c5-9bbc-48b3-9702-4ca5d14a4f4f",
   "metadata": {},
   "source": [
    "| Data Science Tools     |\n",
    "|------------------------|\n",
    "| Jupyter Notebook       |\n",
    "| RStudio                |\n",
    "| Apache Zeppelin        |"
   ]
  },
  {
   "cell_type": "markdown",
   "id": "9d2a9b15-a9bf-4c50-94b1-38d92484bbf2",
   "metadata": {},
   "source": [
    "### Below are a few examples of evaluating arithmetic expressions in Python."
   ]
  },
  {
   "cell_type": "code",
   "execution_count": 10,
   "id": "3acb3fbf-b393-46bf-821f-16d34ea210a5",
   "metadata": {},
   "outputs": [
    {
     "data": {
      "text/plain": [
       "17"
      ]
     },
     "execution_count": 10,
     "metadata": {},
     "output_type": "execute_result"
    }
   ],
   "source": [
    "# This is a simple arithmetic expression to multiply then add integers\n",
    "result = (3 * 4) + 5\n",
    "result"
   ]
  },
  {
   "cell_type": "code",
   "execution_count": 6,
   "id": "e9c77278-00e6-488c-aa65-8cd7a6551e54",
   "metadata": {},
   "outputs": [
    {
     "data": {
      "text/plain": [
       "3.3333333333333335"
      ]
     },
     "execution_count": 6,
     "metadata": {},
     "output_type": "execute_result"
    }
   ],
   "source": [
    "# This will convert 200 minutes to hours by dividing by 60\n",
    "minutes = 200\n",
    "hours = minutes / 60\n",
    "hours"
   ]
  },
  {
   "cell_type": "markdown",
   "id": "f24c7d84-07f9-4fa8-a4f1-1164d79287f4",
   "metadata": {},
   "source": [
    "## Author\n",
    "Pranav Hole"
   ]
  },
  {
   "cell_type": "code",
   "execution_count": null,
   "id": "09c6954a-210e-4972-a66a-02aff485c460",
   "metadata": {},
   "outputs": [],
   "source": []
  }
 ],
 "metadata": {
  "kernelspec": {
   "display_name": "Python 3 (ipykernel)",
   "language": "python",
   "name": "python3"
  },
  "language_info": {
   "codemirror_mode": {
    "name": "ipython",
    "version": 3
   },
   "file_extension": ".py",
   "mimetype": "text/x-python",
   "name": "python",
   "nbconvert_exporter": "python",
   "pygments_lexer": "ipython3",
   "version": "3.11.9"
  }
 },
 "nbformat": 4,
 "nbformat_minor": 5
}
